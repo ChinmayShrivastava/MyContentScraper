{
 "cells": [
  {
   "cell_type": "code",
   "execution_count": 1,
   "metadata": {},
   "outputs": [],
   "source": [
    "from genContent import *"
   ]
  },
  {
   "cell_type": "code",
   "execution_count": 2,
   "metadata": {},
   "outputs": [],
   "source": [
    "article = ArticleGenerator()"
   ]
  },
  {
   "cell_type": "code",
   "execution_count": 3,
   "metadata": {},
   "outputs": [
    {
     "name": "stdout",
     "output_type": "stream",
     "text": [
      "\n",
      "        Instructions:\n",
      "        1. Set primary keyword\n",
      "        2. Set secondary keywords\n",
      "        3. Set audience\n",
      "        4. Generate title\n",
      "        5. Generate outline\n",
      "        6. Generate content per outline item\n",
      "        \n"
     ]
    }
   ],
   "source": [
    "article.print_instructions()"
   ]
  },
  {
   "cell_type": "code",
   "execution_count": 4,
   "metadata": {},
   "outputs": [],
   "source": [
    "article.set_primary_kw(\"sensitive data\")"
   ]
  },
  {
   "cell_type": "code",
   "execution_count": 5,
   "metadata": {},
   "outputs": [],
   "source": [
    "article.set_secondary_kws([\"sensitive information\", \"critical data\", \"cloud environments\", \"security policy\", \"manage risk\", \"high risk data\"])"
   ]
  },
  {
   "cell_type": "code",
   "execution_count": 6,
   "metadata": {},
   "outputs": [],
   "source": [
    "lsi_2 = ['types of data',\n",
    " 'data discovery',\n",
    " 'personal information',\n",
    " 'personally identifiable information',\n",
    " 'pii',\n",
    " 'access management',\n",
    " 'social security numbers',\n",
    " 'consumer privacy act',\n",
    " 'legal and regulatory consequences',\n",
    " 'sensitive data discovery',\n",
    " 'protect sensitive data',\n",
    " 'general data protection regulation',\n",
    " 'data intelligence',\n",
    " 'personal data',\n",
    " 'categories of personal data',\n",
    " 'protected health information',\n",
    " 'data security',\n",
    " 'exposure',\n",
    " 'data protection',\n",
    " 'data privacy regulations',\n",
    " 'privacy and protection',\n",
    " 'california consumer privacy act',\n",
    " 'cloud data',\n",
    " 'data governance',\n",
    " 'data breaches',\n",
    " 'data sources',\n",
    " 'data management',\n",
    " 'data privacy',\n",
    " 'data protection regulation',\n",
    " 'racial or ethnic origin']"
   ]
  },
  {
   "cell_type": "code",
   "execution_count": 7,
   "metadata": {},
   "outputs": [],
   "source": [
    "article.set_lsi_kws(lsi_2)"
   ]
  },
  {
   "cell_type": "code",
   "execution_count": 9,
   "metadata": {},
   "outputs": [],
   "source": [
    "article.set_audience(\"Security Engineering Leaders; people who need to understand sensitive data and regulations surrounding it\")"
   ]
  },
  {
   "cell_type": "code",
   "execution_count": 10,
   "metadata": {},
   "outputs": [],
   "source": [
    "title_instructions = {\n",
    "    'add_inst': \"The article is a general article that discusses sensitive data and the regulations surrounding it. Don't use numbers.\"\n",
    "}"
   ]
  },
  {
   "cell_type": "code",
   "execution_count": 11,
   "metadata": {},
   "outputs": [
    {
     "data": {
      "text/plain": [
       "'\"Essential Guide: Ensuring Compliance and Protecting Sensitive Data in Today\\'s Regulatory Landscape\"'"
      ]
     },
     "execution_count": 11,
     "metadata": {},
     "output_type": "execute_result"
    }
   ],
   "source": [
    "article.gen_title(instructions=title_instructions)"
   ]
  },
  {
   "cell_type": "code",
   "execution_count": 12,
   "metadata": {},
   "outputs": [],
   "source": [
    "article.set_title(\"Understanding Sensitive Data and the Need for Regulations\")"
   ]
  },
  {
   "cell_type": "code",
   "execution_count": 13,
   "metadata": {},
   "outputs": [
    {
     "data": {
      "text/plain": [
       "['\"Essential Guide: Ensuring Compliance and Protecting Sensitive Data in Today\\'s Regulatory Landscape\"',\n",
       " 'Understanding Sensitive Data and the Need for Regulations']"
      ]
     },
     "execution_count": 13,
     "metadata": {},
     "output_type": "execute_result"
    }
   ],
   "source": [
    "article.oldtitles"
   ]
  },
  {
   "cell_type": "code",
   "execution_count": 14,
   "metadata": {},
   "outputs": [
    {
     "data": {
      "text/plain": [
       "['I. Introduction ',\n",
       " 'II. Definition of Sensitive Data ',\n",
       " 'III. Different Types of Sensitive Data',\n",
       " 'IV. Importance of Safeguarding Sensitive Information ',\n",
       " 'V. Role of Security Policies in Protecting Critical Data ',\n",
       " 'VI. Understanding the Risk of Unprotected Sensitive Data ',\n",
       " 'VII. The need for regulations surrounding sensitive data ',\n",
       " 'VIII. An Overview of Cloud Environments and Their Importance in Data Security',\n",
       " 'IX. Managing Risk related to High Risk Data',\n",
       " 'X. Regulatory Compliance and the Consequences of Non-compliance',\n",
       " 'XI. Role of Security Engineers in Implementing and Ensuring Compliance',\n",
       " 'XII. Conclusion']"
      ]
     },
     "execution_count": 14,
     "metadata": {},
     "output_type": "execute_result"
    }
   ],
   "source": [
    "article.gen_outline()"
   ]
  },
  {
   "cell_type": "code",
   "execution_count": 20,
   "metadata": {},
   "outputs": [],
   "source": [
    "article.outline = ['Introduction',\n",
    " 'What is Sensitive Data?',\n",
    " 'Types of Sensitive Data']"
   ]
  },
  {
   "cell_type": "code",
   "execution_count": 16,
   "metadata": {},
   "outputs": [
    {
     "data": {
      "text/plain": [
       "\"Introduction\\n\\nEver heard the joke about the security engineer who reassured his client that his new secure drive was impervious to all current hacking tactics, only to have the client lose key data when his nine-year-old discovered the drive and used it as a coaster? This humorous anecdote might elicit a chuckle or two, but it underscores a serious vulnerability in data security, a field that has come under increasing scrutiny in recent years due to a sharp increase in cybercrime. Cybercrimes have accelerated by 10% over the past year, triggering an average hit of $9.44 million per data breach in the United States alone, based on data for 2022. The frequency of cyberattacks is astounding, with approximately 2,200 occurring daily, translating to a cyberattack every 39 seconds. In 2022, 1,506 data breaches occurred owing to data phishing attacks, exposing an estimated 164.68 million records.\\n\\nMoving beyond these alarming statistics, let's delve into the heart of the matter – sensitive data. Sensitive data is any kind of information that is protected against unwarranted disclosure. To comprehend the gravity of data breaches, it's important to understand what sensitive data is and why it's crucial to protect it. Access to this data can be devastating; this is borne out by the egregious data breaches of 2022 where a hacker posted personal information of 487 million WhatsApp users, while the Australian healthcare and insurance provider Medibank suffered a data leak that resulted in the theft of 97 million people's information. Unfortunately, according to recent findings, 53% of organizations leave 1,000 or more files with sensitive data open to all employees, and the average company has 534,465 files containing data that would be classified as sensitive. Hence, it is easy to understand why sensitive data protection is a critical concern requiring immediate and effective regulations.\""
      ]
     },
     "execution_count": 16,
     "metadata": {},
     "output_type": "execute_result"
    }
   ],
   "source": [
    "instr = {\n",
    "    'add_notes': \"\"\"\n",
    "- Start with an aneAnecdote that security engineers might understand and/or chuckle at, but which also identifies a data security problem/vulnerability when it comes to sensitive data\n",
    "- Some info for perusal, In terms of cybercrime, the cost has risen by 10% in the past year, with the average cost of a data breach in the United States in 2022 being $9.44 million. There are approximately 2,200 cyber attacks per day, with a cyber attack happening every 39 seconds on average. In 2022, more than 1,506 data breaches occurred due to data phishing attacks, compromising 164.68 million records. Data breaches have been significant in recent years. For instance, in 2022, a hacker posted personal information of 487 million WhatsApp users. In the same year, 97 million people's information was stolen when Australian healthcare and insurance provider Medibank suffered a data leak.When it comes to sensitive data, 53% of organizations leave 1,000 or more files with sensitive data open to all employees.The average company has 534,465 files containing sensitive data\n",
    "- Second paragraph talk about sensitive data and why it's important to understand and protect it\"\"\"\n",
    "}\n",
    "article.fill_outline_item('Introduction', instructions=instr)"
   ]
  },
  {
   "cell_type": "code",
   "execution_count": 17,
   "metadata": {},
   "outputs": [
    {
     "data": {
      "text/plain": [
       "\"Sensitive data can be succinctly defined as any information that must be protected from unauthorized access due to its influential and potentially harmful nature. It includes any data that, if exposed, may lead to detrimental impacts including, but not limited to, infringement upon an individual's privacy rights, financial loss, or reputational damage.\\n\\nA couple of clear examples of sensitive data include personal information and health information. Personal information, also known as personally identifiable information (PII), covers any data that could be used to identify a specific individual. Examples are a person's name, social security number, or address. Similarly, health information - often referred to as Protected Health Information (PHI) in contexts such as the Health Insurance Portability and Accountability Act (HIPAA) - includes details related with an individual’s medical conditions, medical history, or health insurance policy details. As we delve into subsequent sections, we will explore more about these types of sensitive data, their importance, and the crucial role regulations play in their protection.\""
      ]
     },
     "execution_count": 17,
     "metadata": {},
     "output_type": "execute_result"
    }
   ],
   "source": [
    "instr = {\n",
    "    'add_notes': \"\"\"\n",
    "- Provide Clear and succinct definition\n",
    "- provide a couple of examples into what can be considered sensitive data use personal information, and health information as examples\n",
    "- Prepare the reader for the next section, which will go into more detail about the types of sensitive data\"\"\"\n",
    "}\n",
    "article.fill_outline_item('What is Sensitive Data?', instructions=instr)"
   ]
  },
  {
   "cell_type": "code",
   "execution_count": 19,
   "metadata": {},
   "outputs": [
    {
     "data": {
      "text/plain": [
       "\"Section: Types of Sensitive Data\\n\\nTo truly grasp the need for regulations surrounding sensitive data, it's important to understand the variety of data types it encompasses. The most common types often referred to include Personal Identifying Information (PII), Business Information, Classified Information, Sensitive Personal Information (SPI), Intellectual Property (IP) and Trade Secrets, Financial Information, along with a host of other types.\\n\\nPersonal Identifying Information (PII) is at risk perhaps more than any other type of data. This encompasses any details that can be traced back to an individual such as social security numbers, full names, residential address, email addresses, phone numbers, among others. In the wrong hands, PII can be used for identity theft, fraud, stalking, or other malicious purposes.\\n\\nBusiness Information, while not typically associated with an individual, holds significant sensitivity within a corporate context. This could range from internal memos, strategic plans, details about clients, to methods of operation. Unauthorized access or leaks of such business-critical data can severely compromise the company's competitive position and brand reputation.\\n\\nClassified information, often tied to government or military organizations, holds grave consequences when mishandled. These can comprise of national security data, confidential government communications, and other state secret matters. A breach can have considerable repercussions, potentially impacting national security or international relations.\\n\\nSensitive Personal Information (SPI) is another critical category of sensitive data, which covers details that are more intimate in nature such as health status, biometric data, ethnic or racial origins, religious beliefs, etc. A breach of such data could lead to severe emotional distress, discrimination, or violation of personal rights.\\n\\nIntellectual Property (IP) and Trade Secrets are critical assets for many corporations. These include patents, software code, blueprints, strategies, and secret recipes that grant a company its competitive edge. The unauthorized access, use, or theft of these can result in significant financial losses and damage to a firm’s market position.\\n\\nFinancial information is undeniably crucial. From credit card numbers, bank account data, and transaction history to income details and financial forecasts of a business, potential misuse can lead to financial fraud, insider trading, or severe disruption to an individual's or an organization's financial stability.\\n\\nUnderstanding these types of sensitive data is paramount when creating systems for data protection or data privacy regulation compliance. Unregulated or lax management of such data can lead to detrimental impacts for individuals, businesses, or societies. Consequently, regulations play a critical role in outlining responsibilities and rules to safeguard against these potential harms, underlining the need for strict adherence.\""
      ]
     },
     "execution_count": 19,
     "metadata": {},
     "output_type": "execute_result"
    }
   ],
   "source": [
    "instr = {\n",
    "    'add_notes': \"\"\"\n",
    "- create sections for each type of sensitive data\n",
    "- Talk about Personal Identifying Information (PII), Business Information, Classified, Sensitive Personal Information (SPI), IP and Trade Secrets, and Financial Information \n",
    "- Talk about the other remaining types of sensitive data a bit, and prepare the reader on why regulations are important\n",
    "- use a paragraph each for each type of sensitive data\"\"\"\n",
    "}\n",
    "article.fill_outline_item('Types of Sensitive Data', instructions=instr)"
   ]
  },
  {
   "cell_type": "code",
   "execution_count": 21,
   "metadata": {},
   "outputs": [
    {
     "name": "stdout",
     "output_type": "stream",
     "text": [
      "Understanding Sensitive Data and the Need for Regulations\n",
      "Introduction\n",
      "Introduction\n",
      "\n",
      "Ever heard the joke about the security engineer who reassured his client that his new secure drive was impervious to all current hacking tactics, only to have the client lose key data when his nine-year-old discovered the drive and used it as a coaster? This humorous anecdote might elicit a chuckle or two, but it underscores a serious vulnerability in data security, a field that has come under increasing scrutiny in recent years due to a sharp increase in cybercrime. Cybercrimes have accelerated by 10% over the past year, triggering an average hit of $9.44 million per data breach in the United States alone, based on data for 2022. The frequency of cyberattacks is astounding, with approximately 2,200 occurring daily, translating to a cyberattack every 39 seconds. In 2022, 1,506 data breaches occurred owing to data phishing attacks, exposing an estimated 164.68 million records.\n",
      "\n",
      "Moving beyond these alarming statistics, let's delve into the heart of the matter – sensitive data. Sensitive data is any kind of information that is protected against unwarranted disclosure. To comprehend the gravity of data breaches, it's important to understand what sensitive data is and why it's crucial to protect it. Access to this data can be devastating; this is borne out by the egregious data breaches of 2022 where a hacker posted personal information of 487 million WhatsApp users, while the Australian healthcare and insurance provider Medibank suffered a data leak that resulted in the theft of 97 million people's information. Unfortunately, according to recent findings, 53% of organizations leave 1,000 or more files with sensitive data open to all employees, and the average company has 534,465 files containing data that would be classified as sensitive. Hence, it is easy to understand why sensitive data protection is a critical concern requiring immediate and effective regulations.\n",
      "What is Sensitive Data?\n",
      "Sensitive data can be succinctly defined as any information that must be protected from unauthorized access due to its influential and potentially harmful nature. It includes any data that, if exposed, may lead to detrimental impacts including, but not limited to, infringement upon an individual's privacy rights, financial loss, or reputational damage.\n",
      "\n",
      "A couple of clear examples of sensitive data include personal information and health information. Personal information, also known as personally identifiable information (PII), covers any data that could be used to identify a specific individual. Examples are a person's name, social security number, or address. Similarly, health information - often referred to as Protected Health Information (PHI) in contexts such as the Health Insurance Portability and Accountability Act (HIPAA) - includes details related with an individual’s medical conditions, medical history, or health insurance policy details. As we delve into subsequent sections, we will explore more about these types of sensitive data, their importance, and the crucial role regulations play in their protection.\n",
      "Types of Sensitive Data\n",
      "Section: Types of Sensitive Data\n",
      "\n",
      "To truly grasp the need for regulations surrounding sensitive data, it's important to understand the variety of data types it encompasses. The most common types often referred to include Personal Identifying Information (PII), Business Information, Classified Information, Sensitive Personal Information (SPI), Intellectual Property (IP) and Trade Secrets, Financial Information, along with a host of other types.\n",
      "\n",
      "Personal Identifying Information (PII) is at risk perhaps more than any other type of data. This encompasses any details that can be traced back to an individual such as social security numbers, full names, residential address, email addresses, phone numbers, among others. In the wrong hands, PII can be used for identity theft, fraud, stalking, or other malicious purposes.\n",
      "\n",
      "Business Information, while not typically associated with an individual, holds significant sensitivity within a corporate context. This could range from internal memos, strategic plans, details about clients, to methods of operation. Unauthorized access or leaks of such business-critical data can severely compromise the company's competitive position and brand reputation.\n",
      "\n",
      "Classified information, often tied to government or military organizations, holds grave consequences when mishandled. These can comprise of national security data, confidential government communications, and other state secret matters. A breach can have considerable repercussions, potentially impacting national security or international relations.\n",
      "\n",
      "Sensitive Personal Information (SPI) is another critical category of sensitive data, which covers details that are more intimate in nature such as health status, biometric data, ethnic or racial origins, religious beliefs, etc. A breach of such data could lead to severe emotional distress, discrimination, or violation of personal rights.\n",
      "\n",
      "Intellectual Property (IP) and Trade Secrets are critical assets for many corporations. These include patents, software code, blueprints, strategies, and secret recipes that grant a company its competitive edge. The unauthorized access, use, or theft of these can result in significant financial losses and damage to a firm’s market position.\n",
      "\n",
      "Financial information is undeniably crucial. From credit card numbers, bank account data, and transaction history to income details and financial forecasts of a business, potential misuse can lead to financial fraud, insider trading, or severe disruption to an individual's or an organization's financial stability.\n",
      "\n",
      "Understanding these types of sensitive data is paramount when creating systems for data protection or data privacy regulation compliance. Unregulated or lax management of such data can lead to detrimental impacts for individuals, businesses, or societies. Consequently, regulations play a critical role in outlining responsibilities and rules to safeguard against these potential harms, underlining the need for strict adherence.\n"
     ]
    }
   ],
   "source": [
    "article.print_article()"
   ]
  },
  {
   "cell_type": "code",
   "execution_count": 22,
   "metadata": {},
   "outputs": [],
   "source": [
    "# save article\n",
    "# article.save_article()\n",
    "\n",
    "with open('article1.txt', 'w') as f:\n",
    "    f.write(article.title)\n",
    "    f.write('\\n')\n",
    "    for item in article.outline:\n",
    "        f.write(item)\n",
    "        f.write('\\n')\n",
    "        f.write(article.content[item])\n"
   ]
  },
  {
   "cell_type": "code",
   "execution_count": null,
   "metadata": {},
   "outputs": [],
   "source": []
  }
 ],
 "metadata": {
  "kernelspec": {
   "display_name": "Python 3 (ipykernel)",
   "language": "python",
   "name": "python3"
  }
 },
 "nbformat": 4,
 "nbformat_minor": 2
}
