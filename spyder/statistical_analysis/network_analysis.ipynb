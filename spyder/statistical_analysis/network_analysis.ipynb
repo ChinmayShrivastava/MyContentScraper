{
 "cells": [
  {
   "cell_type": "code",
   "execution_count": 56,
   "metadata": {},
   "outputs": [],
   "source": [
    "import psycopg2\n",
    "import pandas as pd\n",
    "import numpy as np\n",
    "import networkx as nx"
   ]
  },
  {
   "cell_type": "code",
   "execution_count": 57,
   "metadata": {},
   "outputs": [],
   "source": [
    "# connect to database\n",
    "conn = psycopg2.connect(\n",
    "    host=\"localhost\",\n",
    "    port=5450,\n",
    "    database=\"postgres\",\n",
    "    user=\"postgres\",\n",
    "    password=\"postgres\"\n",
    ")\n",
    "\n",
    "# create cursor\n",
    "cur = conn.cursor()"
   ]
  },
  {
   "cell_type": "code",
   "execution_count": 58,
   "metadata": {},
   "outputs": [
    {
     "name": "stdout",
     "output_type": "stream",
     "text": [
      "{'headtosub': 0.6666666666666666, 'headtopara': 0.3333333333333333}\n"
     ]
    }
   ],
   "source": [
    "weights = {\n",
    "    'headtosub': 2,\n",
    "    'headtopara': 1,\n",
    "}\n",
    "\n",
    "# normalize weights\n",
    "weights = {k: v / sum(weights.values()) for k, v in weights.items()}\n",
    "print(weights)"
   ]
  },
  {
   "cell_type": "code",
   "execution_count": 59,
   "metadata": {},
   "outputs": [],
   "source": [
    "# get the topics_preprocessed column from the topics table where it is not \"\" and topics_preprocessed is unique\n",
    "cur.execute(\"\"\"\n",
    "    SELECT DISTINCT topics_preprocessed, idf\n",
    "    FROM topics\n",
    "    WHERE topics_preprocessed != ''\n",
    "\"\"\")\n",
    "topics_preprocessed = cur.fetchall()\n",
    "\n",
    "# make a dataframe from the topics_preprocessed column\n",
    "df = pd.DataFrame(topics_preprocessed, columns=['topics', 'idf'])"
   ]
  },
  {
   "cell_type": "code",
   "execution_count": 60,
   "metadata": {},
   "outputs": [
    {
     "data": {
      "text/plain": [
       "59521"
      ]
     },
     "execution_count": 60,
     "metadata": {},
     "output_type": "execute_result"
    }
   ],
   "source": [
    "len(df)"
   ]
  },
  {
   "cell_type": "code",
   "execution_count": 61,
   "metadata": {},
   "outputs": [
    {
     "data": {
      "text/html": [
       "<div>\n",
       "<style scoped>\n",
       "    .dataframe tbody tr th:only-of-type {\n",
       "        vertical-align: middle;\n",
       "    }\n",
       "\n",
       "    .dataframe tbody tr th {\n",
       "        vertical-align: top;\n",
       "    }\n",
       "\n",
       "    .dataframe thead th {\n",
       "        text-align: right;\n",
       "    }\n",
       "</style>\n",
       "<table border=\"1\" class=\"dataframe\">\n",
       "  <thead>\n",
       "    <tr style=\"text-align: right;\">\n",
       "      <th></th>\n",
       "      <th>topics</th>\n",
       "      <th>idf</th>\n",
       "    </tr>\n",
       "  </thead>\n",
       "  <tbody>\n",
       "    <tr>\n",
       "      <th>0</th>\n",
       "      <td>cma</td>\n",
       "      <td>9.508152446764088</td>\n",
       "    </tr>\n",
       "    <tr>\n",
       "      <th>1</th>\n",
       "      <td>state legislatures</td>\n",
       "      <td>10.201299627324033</td>\n",
       "    </tr>\n",
       "    <tr>\n",
       "      <th>2</th>\n",
       "      <td>create a movement</td>\n",
       "      <td>10.201299627324033</td>\n",
       "    </tr>\n",
       "    <tr>\n",
       "      <th>3</th>\n",
       "      <td>california consumer privacy protection</td>\n",
       "      <td>10.201299627324033</td>\n",
       "    </tr>\n",
       "    <tr>\n",
       "      <th>4</th>\n",
       "      <td>network security consultant</td>\n",
       "      <td>10.201299627324033</td>\n",
       "    </tr>\n",
       "  </tbody>\n",
       "</table>\n",
       "</div>"
      ],
      "text/plain": [
       "                                   topics                 idf\n",
       "0                                     cma   9.508152446764088\n",
       "1                      state legislatures  10.201299627324033\n",
       "2                       create a movement  10.201299627324033\n",
       "3  california consumer privacy protection  10.201299627324033\n",
       "4             network security consultant  10.201299627324033"
      ]
     },
     "execution_count": 61,
     "metadata": {},
     "output_type": "execute_result"
    }
   ],
   "source": [
    "df.head()"
   ]
  },
  {
   "cell_type": "code",
   "execution_count": 62,
   "metadata": {},
   "outputs": [
    {
     "data": {
      "text/html": [
       "<div>\n",
       "<style scoped>\n",
       "    .dataframe tbody tr th:only-of-type {\n",
       "        vertical-align: middle;\n",
       "    }\n",
       "\n",
       "    .dataframe tbody tr th {\n",
       "        vertical-align: top;\n",
       "    }\n",
       "\n",
       "    .dataframe thead th {\n",
       "        text-align: right;\n",
       "    }\n",
       "</style>\n",
       "<table border=\"1\" class=\"dataframe\">\n",
       "  <thead>\n",
       "    <tr style=\"text-align: right;\">\n",
       "      <th></th>\n",
       "      <th>topics</th>\n",
       "      <th>idf</th>\n",
       "    </tr>\n",
       "  </thead>\n",
       "  <tbody>\n",
       "    <tr>\n",
       "      <th>59516</th>\n",
       "      <td>phased approach</td>\n",
       "      <td>10.201299627324033</td>\n",
       "    </tr>\n",
       "    <tr>\n",
       "      <th>59517</th>\n",
       "      <td>classificationbased data discovery tools</td>\n",
       "      <td>10.201299627324033</td>\n",
       "    </tr>\n",
       "    <tr>\n",
       "      <th>59518</th>\n",
       "      <td>recover objects</td>\n",
       "      <td>10.201299627324033</td>\n",
       "    </tr>\n",
       "    <tr>\n",
       "      <th>59519</th>\n",
       "      <td>moving within the cloud</td>\n",
       "      <td>10.201299627324033</td>\n",
       "    </tr>\n",
       "    <tr>\n",
       "      <th>59520</th>\n",
       "      <td>deprovisioning access</td>\n",
       "      <td>10.201299627324033</td>\n",
       "    </tr>\n",
       "  </tbody>\n",
       "</table>\n",
       "</div>"
      ],
      "text/plain": [
       "                                         topics                 idf\n",
       "59516                           phased approach  10.201299627324033\n",
       "59517  classificationbased data discovery tools  10.201299627324033\n",
       "59518                           recover objects  10.201299627324033\n",
       "59519                   moving within the cloud  10.201299627324033\n",
       "59520                     deprovisioning access  10.201299627324033"
      ]
     },
     "execution_count": 62,
     "metadata": {},
     "output_type": "execute_result"
    }
   ],
   "source": [
    "df.tail()"
   ]
  },
  {
   "cell_type": "code",
   "execution_count": 63,
   "metadata": {},
   "outputs": [],
   "source": [
    "# initialize graph, mono-directional\n",
    "G = nx.DiGraph()"
   ]
  },
  {
   "cell_type": "code",
   "execution_count": 64,
   "metadata": {},
   "outputs": [
    {
     "name": "stderr",
     "output_type": "stream",
     "text": [
      "100%|██████████████████████████████████| 59521/59521 [00:03<00:00, 16454.55it/s]\n"
     ]
    }
   ],
   "source": [
    "import tqdm\n",
    "\n",
    "# for each topic in the dataframe, add a node to the graph\n",
    "for i, row in tqdm.tqdm(df.iterrows(), total=len(df)):\n",
    "    G.add_node(row['topics'], idf=row['idf'])"
   ]
  },
  {
   "cell_type": "code",
   "execution_count": 65,
   "metadata": {},
   "outputs": [
    {
     "name": "stdout",
     "output_type": "stream",
     "text": [
      "reportin {'idf': Decimal('10.201299627324033')}\n",
      "distributed filesystem team {'idf': Decimal('10.201299627324033')}\n",
      "security community {'idf': Decimal('10.201299627324033')}\n",
      "tech community {'idf': Decimal('10.201299627324033')}\n",
      "protection regulation {'idf': Decimal('10.201299627324033')}\n"
     ]
    }
   ],
   "source": [
    "# display 5 random nodes, with their properties\n",
    "for node in np.random.choice(G.nodes, 5):\n",
    "    print(node, G.nodes[node])"
   ]
  },
  {
   "cell_type": "code",
   "execution_count": 66,
   "metadata": {},
   "outputs": [
    {
     "data": {
      "text/plain": [
       "9909"
      ]
     },
     "execution_count": 66,
     "metadata": {},
     "output_type": "execute_result"
    }
   ],
   "source": [
    "# get the url, next_heading, subheading, heading_topics and content_topics columns from the resources table\n",
    "cur.execute(\"\"\"\n",
    "    SELECT id, url, hnum, next_heading, subheading, heading_topics, content_topics\n",
    "    FROM resources\n",
    "\"\"\")\n",
    "resources = cur.fetchall()\n",
    "\n",
    "# make a dataframe from the resources table\n",
    "df = pd.DataFrame(resources, columns=['id', 'url', 'hnum', 'next_heading', 'subheading', 'heading_topics', 'content_topics'])\n",
    "\n",
    "len(df)"
   ]
  },
  {
   "cell_type": "code",
   "execution_count": 67,
   "metadata": {},
   "outputs": [
    {
     "data": {
      "text/html": [
       "<div>\n",
       "<style scoped>\n",
       "    .dataframe tbody tr th:only-of-type {\n",
       "        vertical-align: middle;\n",
       "    }\n",
       "\n",
       "    .dataframe tbody tr th {\n",
       "        vertical-align: top;\n",
       "    }\n",
       "\n",
       "    .dataframe thead th {\n",
       "        text-align: right;\n",
       "    }\n",
       "</style>\n",
       "<table border=\"1\" class=\"dataframe\">\n",
       "  <thead>\n",
       "    <tr style=\"text-align: right;\">\n",
       "      <th></th>\n",
       "      <th>id</th>\n",
       "      <th>url</th>\n",
       "      <th>hnum</th>\n",
       "      <th>next_heading</th>\n",
       "      <th>subheading</th>\n",
       "      <th>heading_topics</th>\n",
       "      <th>content_topics</th>\n",
       "    </tr>\n",
       "  </thead>\n",
       "  <tbody>\n",
       "    <tr>\n",
       "      <th>0</th>\n",
       "      <td>5</td>\n",
       "      <td>https://adaptive.live/blog/rethink-infrastruct...</td>\n",
       "      <td>4</td>\n",
       "      <td>NaN</td>\n",
       "      <td>5.0</td>\n",
       "      <td>[remotefirst, trend]</td>\n",
       "      <td>[2020, covid, and, remote, work, mainstream, t...</td>\n",
       "    </tr>\n",
       "    <tr>\n",
       "      <th>1</th>\n",
       "      <td>4</td>\n",
       "      <td>https://adaptive.live/blog/rethink-infrastruct...</td>\n",
       "      <td>3</td>\n",
       "      <td>4.0</td>\n",
       "      <td>8.0</td>\n",
       "      <td>[complexity, infrastructure, modernday infrast...</td>\n",
       "      <td>[order, understand, problems, infrastructure, ...</td>\n",
       "    </tr>\n",
       "    <tr>\n",
       "      <th>2</th>\n",
       "      <td>8</td>\n",
       "      <td>https://adaptive.live/blog/understanding-sox-c...</td>\n",
       "      <td>10</td>\n",
       "      <td>11.0</td>\n",
       "      <td>15.0</td>\n",
       "      <td>[benefits, sox, compliance, sox compliance]</td>\n",
       "      <td>[all, companies, obliged, comply, sox, what, b...</td>\n",
       "    </tr>\n",
       "    <tr>\n",
       "      <th>3</th>\n",
       "      <td>15</td>\n",
       "      <td>https://adaptive.live/blog/rethink-infrastruct...</td>\n",
       "      <td>12</td>\n",
       "      <td>13.0</td>\n",
       "      <td>16.0</td>\n",
       "      <td>[limitations, existing, solutions, existing so...</td>\n",
       "      <td>[infrastructure, access, management, platform,...</td>\n",
       "    </tr>\n",
       "    <tr>\n",
       "      <th>4</th>\n",
       "      <td>16</td>\n",
       "      <td>https://adaptive.live/blog/rethink-infrastruct...</td>\n",
       "      <td>13</td>\n",
       "      <td>NaN</td>\n",
       "      <td>14.0</td>\n",
       "      <td>[vpns, obsolete]</td>\n",
       "      <td>[vpn, ubiquitous, and, organization, uses, vpn...</td>\n",
       "    </tr>\n",
       "  </tbody>\n",
       "</table>\n",
       "</div>"
      ],
      "text/plain": [
       "   id                                                url  hnum  next_heading  \\\n",
       "0   5  https://adaptive.live/blog/rethink-infrastruct...     4           NaN   \n",
       "1   4  https://adaptive.live/blog/rethink-infrastruct...     3           4.0   \n",
       "2   8  https://adaptive.live/blog/understanding-sox-c...    10          11.0   \n",
       "3  15  https://adaptive.live/blog/rethink-infrastruct...    12          13.0   \n",
       "4  16  https://adaptive.live/blog/rethink-infrastruct...    13           NaN   \n",
       "\n",
       "   subheading                                     heading_topics  \\\n",
       "0         5.0                               [remotefirst, trend]   \n",
       "1         8.0  [complexity, infrastructure, modernday infrast...   \n",
       "2        15.0        [benefits, sox, compliance, sox compliance]   \n",
       "3        16.0  [limitations, existing, solutions, existing so...   \n",
       "4        14.0                                   [vpns, obsolete]   \n",
       "\n",
       "                                      content_topics  \n",
       "0  [2020, covid, and, remote, work, mainstream, t...  \n",
       "1  [order, understand, problems, infrastructure, ...  \n",
       "2  [all, companies, obliged, comply, sox, what, b...  \n",
       "3  [infrastructure, access, management, platform,...  \n",
       "4  [vpn, ubiquitous, and, organization, uses, vpn...  "
      ]
     },
     "execution_count": 67,
     "metadata": {},
     "output_type": "execute_result"
    }
   ],
   "source": [
    "df.head()"
   ]
  },
  {
   "cell_type": "code",
   "execution_count": 68,
   "metadata": {},
   "outputs": [],
   "source": [
    "# make hnum, next_heading and subheading columns to integers, if nan, make it -1\n",
    "df['hnum'] = df['hnum'].fillna(-1).astype(int)\n",
    "df['next_heading'] = df['next_heading'].fillna(-1).astype(int)\n",
    "df['subheading'] = df['subheading'].fillna(-1).astype(int)"
   ]
  },
  {
   "cell_type": "code",
   "execution_count": 69,
   "metadata": {},
   "outputs": [
    {
     "data": {
      "text/html": [
       "<div>\n",
       "<style scoped>\n",
       "    .dataframe tbody tr th:only-of-type {\n",
       "        vertical-align: middle;\n",
       "    }\n",
       "\n",
       "    .dataframe tbody tr th {\n",
       "        vertical-align: top;\n",
       "    }\n",
       "\n",
       "    .dataframe thead th {\n",
       "        text-align: right;\n",
       "    }\n",
       "</style>\n",
       "<table border=\"1\" class=\"dataframe\">\n",
       "  <thead>\n",
       "    <tr style=\"text-align: right;\">\n",
       "      <th></th>\n",
       "      <th>id</th>\n",
       "      <th>url</th>\n",
       "      <th>hnum</th>\n",
       "      <th>next_heading</th>\n",
       "      <th>subheading</th>\n",
       "      <th>heading_topics</th>\n",
       "      <th>content_topics</th>\n",
       "    </tr>\n",
       "  </thead>\n",
       "  <tbody>\n",
       "    <tr>\n",
       "      <th>0</th>\n",
       "      <td>5</td>\n",
       "      <td>https://adaptive.live/blog/rethink-infrastruct...</td>\n",
       "      <td>4</td>\n",
       "      <td>-1</td>\n",
       "      <td>5</td>\n",
       "      <td>[remotefirst, trend]</td>\n",
       "      <td>[2020, covid, and, remote, work, mainstream, t...</td>\n",
       "    </tr>\n",
       "    <tr>\n",
       "      <th>1</th>\n",
       "      <td>4</td>\n",
       "      <td>https://adaptive.live/blog/rethink-infrastruct...</td>\n",
       "      <td>3</td>\n",
       "      <td>4</td>\n",
       "      <td>8</td>\n",
       "      <td>[complexity, infrastructure, modernday infrast...</td>\n",
       "      <td>[order, understand, problems, infrastructure, ...</td>\n",
       "    </tr>\n",
       "    <tr>\n",
       "      <th>2</th>\n",
       "      <td>8</td>\n",
       "      <td>https://adaptive.live/blog/understanding-sox-c...</td>\n",
       "      <td>10</td>\n",
       "      <td>11</td>\n",
       "      <td>15</td>\n",
       "      <td>[benefits, sox, compliance, sox compliance]</td>\n",
       "      <td>[all, companies, obliged, comply, sox, what, b...</td>\n",
       "    </tr>\n",
       "    <tr>\n",
       "      <th>3</th>\n",
       "      <td>15</td>\n",
       "      <td>https://adaptive.live/blog/rethink-infrastruct...</td>\n",
       "      <td>12</td>\n",
       "      <td>13</td>\n",
       "      <td>16</td>\n",
       "      <td>[limitations, existing, solutions, existing so...</td>\n",
       "      <td>[infrastructure, access, management, platform,...</td>\n",
       "    </tr>\n",
       "    <tr>\n",
       "      <th>4</th>\n",
       "      <td>16</td>\n",
       "      <td>https://adaptive.live/blog/rethink-infrastruct...</td>\n",
       "      <td>13</td>\n",
       "      <td>-1</td>\n",
       "      <td>14</td>\n",
       "      <td>[vpns, obsolete]</td>\n",
       "      <td>[vpn, ubiquitous, and, organization, uses, vpn...</td>\n",
       "    </tr>\n",
       "  </tbody>\n",
       "</table>\n",
       "</div>"
      ],
      "text/plain": [
       "   id                                                url  hnum  next_heading  \\\n",
       "0   5  https://adaptive.live/blog/rethink-infrastruct...     4            -1   \n",
       "1   4  https://adaptive.live/blog/rethink-infrastruct...     3             4   \n",
       "2   8  https://adaptive.live/blog/understanding-sox-c...    10            11   \n",
       "3  15  https://adaptive.live/blog/rethink-infrastruct...    12            13   \n",
       "4  16  https://adaptive.live/blog/rethink-infrastruct...    13            -1   \n",
       "\n",
       "   subheading                                     heading_topics  \\\n",
       "0           5                               [remotefirst, trend]   \n",
       "1           8  [complexity, infrastructure, modernday infrast...   \n",
       "2          15        [benefits, sox, compliance, sox compliance]   \n",
       "3          16  [limitations, existing, solutions, existing so...   \n",
       "4          14                                   [vpns, obsolete]   \n",
       "\n",
       "                                      content_topics  \n",
       "0  [2020, covid, and, remote, work, mainstream, t...  \n",
       "1  [order, understand, problems, infrastructure, ...  \n",
       "2  [all, companies, obliged, comply, sox, what, b...  \n",
       "3  [infrastructure, access, management, platform,...  \n",
       "4  [vpn, ubiquitous, and, organization, uses, vpn...  "
      ]
     },
     "execution_count": 69,
     "metadata": {},
     "output_type": "execute_result"
    }
   ],
   "source": [
    "df.head()"
   ]
  },
  {
   "cell_type": "code",
   "execution_count": 70,
   "metadata": {},
   "outputs": [],
   "source": [
    "# def call_related_headings(headingid, headings, listofrelatedids=None, nextheading=False):\n",
    "#     print(headingid, nextheading, listofrelatedids)\n",
    "#     if listofrelatedids is None:\n",
    "#         listofrelatedids = []\n",
    "#     if not nextheading:\n",
    "#         # if headings.iloc[headingid]['subheading'] is not nan (nan is class numpy.float64)\n",
    "#         if pd.isna(headings.iloc[headingid]['subheading'])==False:\n",
    "#             # subheadingid is then the index of row with url the sameas the headingid and hnum the same as headings.iloc[headingid]['subheading']\n",
    "#             subheadingid = headings[(headings['url']==headings.iloc[headingid]['url']) & (headings['hnum']==int(headings.iloc[headingid]['subheading']))].index[0]\n",
    "#             listofrelatedids.append(subheadingid)\n",
    "#             listofrelatedids = call_related_headings(subheadingid, headings, listofrelatedids, True)\n",
    "#     if nextheading:\n",
    "#         if pd.isna(headings.iloc[headingid]['next_heading'])==False:\n",
    "#             nextheadingid = headings[(headings['url']==headings.iloc[headingid]['url']) & (headings['hnum']==int(headings.iloc[headingid]['next_heading']))].index[0]\n",
    "#             listofrelatedids.append(nextheadingid)\n",
    "#             listofrelatedids = call_related_headings(nextheadingid, headings, listofrelatedids, True)\n",
    "#     return listofrelatedids\n",
    "\n",
    "# the next_heading and the sub_heading columns are swapped because of a mistake in the database\n",
    "def call_related_headings(headingid, headings, listofrelatedids=None, nextheading=False):\n",
    "    if listofrelatedids is None:\n",
    "        listofrelatedids = []\n",
    "    if not nextheading:\n",
    "        # if there is a subheading\n",
    "        # hnum = headings.iloc[headingid]['hnum']\n",
    "        if headings.iloc[headingid]['next_heading']!=-1:\n",
    "            url = headings.iloc[headingid]['url']\n",
    "            subid = headings.iloc[headingid]['next_heading']\n",
    "            subheadingid = headings[(headings['url']==url) & (headings['hnum']==subid)]\n",
    "            subheadingid = subheadingid.index[0]\n",
    "            listofrelatedids.append(subheadingid)\n",
    "            listofrelatedids = call_related_headings(subheadingid, headings, listofrelatedids=listofrelatedids, nextheading=True)\n",
    "    if nextheading:\n",
    "        if headings.iloc[headingid]['subheading']!=-1:\n",
    "            url = headings.iloc[headingid]['url']\n",
    "            nextid = headings.iloc[headingid]['subheading']\n",
    "            nextheadingid = headings[(headings['url']==url) & (headings['hnum']==nextid)]\n",
    "            nextheadingid = nextheadingid.index[0]\n",
    "            listofrelatedids.append(nextheadingid)\n",
    "            listofrelatedids = call_related_headings(nextheadingid, headings, listofrelatedids=listofrelatedids, nextheading=True)\n",
    "    return listofrelatedids"
   ]
  },
  {
   "cell_type": "code",
   "execution_count": 71,
   "metadata": {},
   "outputs": [
    {
     "data": {
      "text/html": [
       "<div>\n",
       "<style scoped>\n",
       "    .dataframe tbody tr th:only-of-type {\n",
       "        vertical-align: middle;\n",
       "    }\n",
       "\n",
       "    .dataframe tbody tr th {\n",
       "        vertical-align: top;\n",
       "    }\n",
       "\n",
       "    .dataframe thead th {\n",
       "        text-align: right;\n",
       "    }\n",
       "</style>\n",
       "<table border=\"1\" class=\"dataframe\">\n",
       "  <thead>\n",
       "    <tr style=\"text-align: right;\">\n",
       "      <th></th>\n",
       "      <th>id</th>\n",
       "      <th>url</th>\n",
       "      <th>hnum</th>\n",
       "      <th>next_heading</th>\n",
       "      <th>subheading</th>\n",
       "      <th>heading_topics</th>\n",
       "      <th>content_topics</th>\n",
       "    </tr>\n",
       "  </thead>\n",
       "  <tbody>\n",
       "    <tr>\n",
       "      <th>0</th>\n",
       "      <td>5</td>\n",
       "      <td>https://adaptive.live/blog/rethink-infrastruct...</td>\n",
       "      <td>4</td>\n",
       "      <td>-1</td>\n",
       "      <td>5</td>\n",
       "      <td>[remotefirst, trend]</td>\n",
       "      <td>[2020, covid, and, remote, work, mainstream, t...</td>\n",
       "    </tr>\n",
       "    <tr>\n",
       "      <th>1</th>\n",
       "      <td>4</td>\n",
       "      <td>https://adaptive.live/blog/rethink-infrastruct...</td>\n",
       "      <td>3</td>\n",
       "      <td>4</td>\n",
       "      <td>8</td>\n",
       "      <td>[complexity, infrastructure, modernday infrast...</td>\n",
       "      <td>[order, understand, problems, infrastructure, ...</td>\n",
       "    </tr>\n",
       "    <tr>\n",
       "      <th>3</th>\n",
       "      <td>15</td>\n",
       "      <td>https://adaptive.live/blog/rethink-infrastruct...</td>\n",
       "      <td>12</td>\n",
       "      <td>13</td>\n",
       "      <td>16</td>\n",
       "      <td>[limitations, existing, solutions, existing so...</td>\n",
       "      <td>[infrastructure, access, management, platform,...</td>\n",
       "    </tr>\n",
       "    <tr>\n",
       "      <th>4</th>\n",
       "      <td>16</td>\n",
       "      <td>https://adaptive.live/blog/rethink-infrastruct...</td>\n",
       "      <td>13</td>\n",
       "      <td>-1</td>\n",
       "      <td>14</td>\n",
       "      <td>[vpns, obsolete]</td>\n",
       "      <td>[vpn, ubiquitous, and, organization, uses, vpn...</td>\n",
       "    </tr>\n",
       "    <tr>\n",
       "      <th>920</th>\n",
       "      <td>10</td>\n",
       "      <td>https://adaptive.live/blog/rethink-infrastruct...</td>\n",
       "      <td>7</td>\n",
       "      <td>-1</td>\n",
       "      <td>-1</td>\n",
       "      <td>[security, security by obscurity]</td>\n",
       "      <td>[organizations, organization, infrastructure, ...</td>\n",
       "    </tr>\n",
       "    <tr>\n",
       "      <th>922</th>\n",
       "      <td>7</td>\n",
       "      <td>https://adaptive.live/blog/rethink-infrastruct...</td>\n",
       "      <td>6</td>\n",
       "      <td>-1</td>\n",
       "      <td>7</td>\n",
       "      <td>[compliance, audits, enforce, better, security...</td>\n",
       "      <td>[compliance, audits, soc2, iso, hipaa, and, so...</td>\n",
       "    </tr>\n",
       "    <tr>\n",
       "      <th>928</th>\n",
       "      <td>12</td>\n",
       "      <td>https://adaptive.live/blog/rethink-infrastruct...</td>\n",
       "      <td>9</td>\n",
       "      <td>-1</td>\n",
       "      <td>10</td>\n",
       "      <td>[problem, privilege, abuse, privilege abuse]</td>\n",
       "      <td>[how, times, you, organizations, everyone, acc...</td>\n",
       "    </tr>\n",
       "    <tr>\n",
       "      <th>937</th>\n",
       "      <td>19</td>\n",
       "      <td>https://adaptive.live/blog/rethink-infrastruct...</td>\n",
       "      <td>15</td>\n",
       "      <td>-1</td>\n",
       "      <td>-1</td>\n",
       "      <td>[existing, access, management, tools, too, exp...</td>\n",
       "      <td>[existing, infrastructure, access, management,...</td>\n",
       "    </tr>\n",
       "    <tr>\n",
       "      <th>938</th>\n",
       "      <td>20</td>\n",
       "      <td>https://adaptive.live/blog/rethink-infrastruct...</td>\n",
       "      <td>16</td>\n",
       "      <td>-1</td>\n",
       "      <td>17</td>\n",
       "      <td>[adaptive]</td>\n",
       "      <td>[order, solve, gaps, market, we, built, adapti...</td>\n",
       "    </tr>\n",
       "    <tr>\n",
       "      <th>3805</th>\n",
       "      <td>2</td>\n",
       "      <td>https://adaptive.live/blog/rethink-infrastruct...</td>\n",
       "      <td>1</td>\n",
       "      <td>-1</td>\n",
       "      <td>2</td>\n",
       "      <td>[increasing, data, breach, problem, data breac...</td>\n",
       "      <td>[problem, cyber, breaches, worse, day, best, w...</td>\n",
       "    </tr>\n",
       "    <tr>\n",
       "      <th>3807</th>\n",
       "      <td>3</td>\n",
       "      <td>https://adaptive.live/blog/rethink-infrastruct...</td>\n",
       "      <td>2</td>\n",
       "      <td>-1</td>\n",
       "      <td>3</td>\n",
       "      <td>[insider, threat, a, new, problem, organizatio...</td>\n",
       "      <td>[a, new, type, threat, started, impacting, org...</td>\n",
       "    </tr>\n",
       "    <tr>\n",
       "      <th>3808</th>\n",
       "      <td>11</td>\n",
       "      <td>https://adaptive.live/blog/rethink-infrastruct...</td>\n",
       "      <td>8</td>\n",
       "      <td>9</td>\n",
       "      <td>12</td>\n",
       "      <td>[core, infrastructure, access, problems, core ...</td>\n",
       "      <td>[now, we, understand, trends, modern, infrastr...</td>\n",
       "    </tr>\n",
       "    <tr>\n",
       "      <th>3809</th>\n",
       "      <td>6</td>\n",
       "      <td>https://adaptive.live/blog/rethink-infrastruct...</td>\n",
       "      <td>5</td>\n",
       "      <td>-1</td>\n",
       "      <td>6</td>\n",
       "      <td>[increased, cloud, adoption, cloud adoption, i...</td>\n",
       "      <td>[a, common, infrastructure, setup, companies, ...</td>\n",
       "    </tr>\n",
       "    <tr>\n",
       "      <th>3812</th>\n",
       "      <td>14</td>\n",
       "      <td>https://adaptive.live/blog/rethink-infrastruct...</td>\n",
       "      <td>11</td>\n",
       "      <td>-1</td>\n",
       "      <td>-1</td>\n",
       "      <td>[problem, network, network sprawl]</td>\n",
       "      <td>[network, a, growing, adoption, cloud, and, hy...</td>\n",
       "    </tr>\n",
       "    <tr>\n",
       "      <th>3813</th>\n",
       "      <td>13</td>\n",
       "      <td>https://adaptive.live/blog/rethink-infrastruct...</td>\n",
       "      <td>10</td>\n",
       "      <td>-1</td>\n",
       "      <td>11</td>\n",
       "      <td>[problem, credential, credential sprawl]</td>\n",
       "      <td>[sharing, infrastructure, credentials, highris...</td>\n",
       "    </tr>\n",
       "    <tr>\n",
       "      <th>3817</th>\n",
       "      <td>18</td>\n",
       "      <td>https://adaptive.live/blog/rethink-infrastruct...</td>\n",
       "      <td>14</td>\n",
       "      <td>-1</td>\n",
       "      <td>15</td>\n",
       "      <td>[bastion, hosts, difficult, manage, bastion ho...</td>\n",
       "      <td>[a, bastion, server, a, computer, used, access...</td>\n",
       "    </tr>\n",
       "    <tr>\n",
       "      <th>3818</th>\n",
       "      <td>21</td>\n",
       "      <td>https://adaptive.live/blog/rethink-infrastruct...</td>\n",
       "      <td>17</td>\n",
       "      <td>-1</td>\n",
       "      <td>-1</td>\n",
       "      <td>[conclusion]</td>\n",
       "      <td>[access, management, platforms, tailored, ente...</td>\n",
       "    </tr>\n",
       "    <tr>\n",
       "      <th>9908</th>\n",
       "      <td>1</td>\n",
       "      <td>https://adaptive.live/blog/rethink-infrastruct...</td>\n",
       "      <td>0</td>\n",
       "      <td>1</td>\n",
       "      <td>-1</td>\n",
       "      <td>[why, world, needs, rethink, infrastructure, a...</td>\n",
       "      <td>[]</td>\n",
       "    </tr>\n",
       "  </tbody>\n",
       "</table>\n",
       "</div>"
      ],
      "text/plain": [
       "      id                                                url  hnum  \\\n",
       "0      5  https://adaptive.live/blog/rethink-infrastruct...     4   \n",
       "1      4  https://adaptive.live/blog/rethink-infrastruct...     3   \n",
       "3     15  https://adaptive.live/blog/rethink-infrastruct...    12   \n",
       "4     16  https://adaptive.live/blog/rethink-infrastruct...    13   \n",
       "920   10  https://adaptive.live/blog/rethink-infrastruct...     7   \n",
       "922    7  https://adaptive.live/blog/rethink-infrastruct...     6   \n",
       "928   12  https://adaptive.live/blog/rethink-infrastruct...     9   \n",
       "937   19  https://adaptive.live/blog/rethink-infrastruct...    15   \n",
       "938   20  https://adaptive.live/blog/rethink-infrastruct...    16   \n",
       "3805   2  https://adaptive.live/blog/rethink-infrastruct...     1   \n",
       "3807   3  https://adaptive.live/blog/rethink-infrastruct...     2   \n",
       "3808  11  https://adaptive.live/blog/rethink-infrastruct...     8   \n",
       "3809   6  https://adaptive.live/blog/rethink-infrastruct...     5   \n",
       "3812  14  https://adaptive.live/blog/rethink-infrastruct...    11   \n",
       "3813  13  https://adaptive.live/blog/rethink-infrastruct...    10   \n",
       "3817  18  https://adaptive.live/blog/rethink-infrastruct...    14   \n",
       "3818  21  https://adaptive.live/blog/rethink-infrastruct...    17   \n",
       "9908   1  https://adaptive.live/blog/rethink-infrastruct...     0   \n",
       "\n",
       "      next_heading  subheading  \\\n",
       "0               -1           5   \n",
       "1                4           8   \n",
       "3               13          16   \n",
       "4               -1          14   \n",
       "920             -1          -1   \n",
       "922             -1           7   \n",
       "928             -1          10   \n",
       "937             -1          -1   \n",
       "938             -1          17   \n",
       "3805            -1           2   \n",
       "3807            -1           3   \n",
       "3808             9          12   \n",
       "3809            -1           6   \n",
       "3812            -1          -1   \n",
       "3813            -1          11   \n",
       "3817            -1          15   \n",
       "3818            -1          -1   \n",
       "9908             1          -1   \n",
       "\n",
       "                                         heading_topics  \\\n",
       "0                                  [remotefirst, trend]   \n",
       "1     [complexity, infrastructure, modernday infrast...   \n",
       "3     [limitations, existing, solutions, existing so...   \n",
       "4                                      [vpns, obsolete]   \n",
       "920                   [security, security by obscurity]   \n",
       "922   [compliance, audits, enforce, better, security...   \n",
       "928        [problem, privilege, abuse, privilege abuse]   \n",
       "937   [existing, access, management, tools, too, exp...   \n",
       "938                                          [adaptive]   \n",
       "3805  [increasing, data, breach, problem, data breac...   \n",
       "3807  [insider, threat, a, new, problem, organizatio...   \n",
       "3808  [core, infrastructure, access, problems, core ...   \n",
       "3809  [increased, cloud, adoption, cloud adoption, i...   \n",
       "3812                 [problem, network, network sprawl]   \n",
       "3813           [problem, credential, credential sprawl]   \n",
       "3817  [bastion, hosts, difficult, manage, bastion ho...   \n",
       "3818                                       [conclusion]   \n",
       "9908  [why, world, needs, rethink, infrastructure, a...   \n",
       "\n",
       "                                         content_topics  \n",
       "0     [2020, covid, and, remote, work, mainstream, t...  \n",
       "1     [order, understand, problems, infrastructure, ...  \n",
       "3     [infrastructure, access, management, platform,...  \n",
       "4     [vpn, ubiquitous, and, organization, uses, vpn...  \n",
       "920   [organizations, organization, infrastructure, ...  \n",
       "922   [compliance, audits, soc2, iso, hipaa, and, so...  \n",
       "928   [how, times, you, organizations, everyone, acc...  \n",
       "937   [existing, infrastructure, access, management,...  \n",
       "938   [order, solve, gaps, market, we, built, adapti...  \n",
       "3805  [problem, cyber, breaches, worse, day, best, w...  \n",
       "3807  [a, new, type, threat, started, impacting, org...  \n",
       "3808  [now, we, understand, trends, modern, infrastr...  \n",
       "3809  [a, common, infrastructure, setup, companies, ...  \n",
       "3812  [network, a, growing, adoption, cloud, and, hy...  \n",
       "3813  [sharing, infrastructure, credentials, highris...  \n",
       "3817  [a, bastion, server, a, computer, used, access...  \n",
       "3818  [access, management, platforms, tailored, ente...  \n",
       "9908                                                 []  "
      ]
     },
     "execution_count": 71,
     "metadata": {},
     "output_type": "execute_result"
    }
   ],
   "source": [
    "# get index of heading row where 'id' is 1\n",
    "idx = df[df['url'] == 'https://adaptive.live/blog/rethink-infrastructure-access']\n",
    "idx"
   ]
  },
  {
   "cell_type": "code",
   "execution_count": 72,
   "metadata": {},
   "outputs": [
    {
     "data": {
      "text/plain": [
       "[933, 939, 3816, 8]"
      ]
     },
     "execution_count": 72,
     "metadata": {},
     "output_type": "execute_result"
    }
   ],
   "source": [
    "call_related_headings(2, df)"
   ]
  },
  {
   "cell_type": "code",
   "execution_count": 73,
   "metadata": {},
   "outputs": [
    {
     "name": "stderr",
     "output_type": "stream",
     "text": [
      "  0%|                                                  | 0/9909 [00:00<?, ?it/s]"
     ]
    },
    {
     "name": "stderr",
     "output_type": "stream",
     "text": [
      "100%|██████████████████████████████████████| 9909/9909 [00:18<00:00, 522.61it/s]\n"
     ]
    }
   ],
   "source": [
    "# for each heading in the dataframe, call the call_related_headings function\n",
    "for i, row in tqdm.tqdm(df.iterrows(), total=len(df)):\n",
    "    try:\n",
    "        related_headings = call_related_headings(i, df)\n",
    "    except:\n",
    "        continue\n",
    "    # for each related heading\n",
    "    for heading in related_headings:\n",
    "        # if the heading is not the same as the row\n",
    "        for topic in row['heading_topics']:\n",
    "            for related_topic in df.iloc[heading]['heading_topics']:\n",
    "                if not G.has_edge(topic, related_topic):\n",
    "                    G.add_edge(topic, related_topic, weight=weights['headtosub'])\n",
    "                else:\n",
    "                    G.edges[topic, related_topic]['weight'] += weights['headtosub']"
   ]
  },
  {
   "cell_type": "code",
   "execution_count": 74,
   "metadata": {},
   "outputs": [
    {
     "name": "stderr",
     "output_type": "stream",
     "text": [
      "100%|█████████████████████████████████████| 9909/9909 [00:07<00:00, 1275.63it/s]\n"
     ]
    },
    {
     "data": {
      "text/plain": [
       "[('create a movement', 'ccpa', {'weight': 1.3333333333333333}),\n",
       " ('create a movement', 's', {'weight': 1.6666666666666665}),\n",
       " ('create a movement', 'popularity', {'weight': 0.3333333333333333}),\n",
       " ('create a movement', 'california', {'weight': 0.3333333333333333}),\n",
       " ('create a movement', 'residents', {'weight': 0.3333333333333333})]"
      ]
     },
     "execution_count": 74,
     "metadata": {},
     "output_type": "execute_result"
    }
   ],
   "source": [
    "# # for each row in df, iterate over the heading_topics\n",
    "for i, row in tqdm.tqdm(df.iterrows(), total=len(df)):\n",
    "    # get the heading_topics\n",
    "    heading_topics = row['heading_topics']\n",
    "    for htop in heading_topics:\n",
    "        # get the column_topics\n",
    "        column_topics = row['content_topics']\n",
    "        for ctop in column_topics:\n",
    "            # add an edge from the heading_topics to the column_topics if the edge does not already exist\n",
    "            if not G.has_edge(htop, ctop):\n",
    "                G.add_edge(htop, ctop, weight=weights['headtopara'])\n",
    "            else:\n",
    "                G.edges[htop, ctop]['weight'] += weights['headtopara']\n",
    "\n",
    "# normalize weights\n",
    "# for u, v, d in G.edges(data=True):\n",
    "#     d['weight'] /= G.out_degree(u)\n",
    "\n",
    "# display 5 random edges, with their properties\n",
    "# for u, v in np.random.choice(G.edges, 5):\n",
    "#     print(u, v, G.edges[u, v])\n",
    "\n",
    "# print the first 5 edges\n",
    "list(G.edges(data=True))[:5]"
   ]
  },
  {
   "cell_type": "code",
   "execution_count": 75,
   "metadata": {},
   "outputs": [
    {
     "data": {
      "text/plain": [
       "[('cma', 1.2258984531587136e-05),\n",
       " ('state legislatures', 1.3011818233812195e-05),\n",
       " ('create a movement', 1.3003344885910769e-05),\n",
       " ('california consumer privacy protection', 1.233582827226852e-05),\n",
       " ('network security consultant', 1.2184052730940156e-05)]"
      ]
     },
     "execution_count": 75,
     "metadata": {},
     "output_type": "execute_result"
    }
   ],
   "source": [
    "# perform pagerank on the graph, with node weights as the idf, and edge weights as the weights defined above\n",
    "pagerank = nx.pagerank(G, alpha=0.85, weight='weight')\n",
    "\n",
    "# print the first 5 pageranks\n",
    "list(pagerank.items())[:5]"
   ]
  },
  {
   "cell_type": "code",
   "execution_count": 76,
   "metadata": {},
   "outputs": [
    {
     "name": "stdout",
     "output_type": "stream",
     "text": [
      "user errors {'idf': Decimal('10.201299627324033'), 'pagerank': 1.2567865424684074e-05}\n",
      "internal security tool {'idf': Decimal('10.201299627324033'), 'pagerank': 1.2803203608717644e-05}\n",
      "recent new hires {'idf': Decimal('10.201299627324033'), 'pagerank': 1.2727122886594542e-05}\n",
      "devsecops security statistics {'idf': Decimal('10.201299627324033'), 'pagerank': 1.2328310368842488e-05}\n",
      "equipment maintenance {'idf': Decimal('10.201299627324033'), 'pagerank': 1.2184052730940156e-05}\n"
     ]
    }
   ],
   "source": [
    "# add the pagerank to the graph\n",
    "nx.set_node_attributes(G, pagerank, 'pagerank')\n",
    "\n",
    "# display 5 random nodes, with their properties\n",
    "for node in np.random.choice(G.nodes, 5):\n",
    "    print(node, G.nodes[node])"
   ]
  },
  {
   "cell_type": "code",
   "execution_count": 77,
   "metadata": {},
   "outputs": [],
   "source": [
    "# display top 5 connected nodes based on a given node based on the pagerank\n",
    "def get_top_nodes(node_name, n=2):\n",
    "    # get the node\n",
    "    node = G.nodes[node_name]\n",
    "    # get the edges\n",
    "    edges = G.edges(node_name, data=True)\n",
    "    # get the top 5 connected nodes based on the pagerank of the in nodes\n",
    "    top_nodes = sorted([(u, G.nodes[u]['pagerank']) for _, u, _ in edges], key=lambda x: x[1], reverse=True)\n",
    "    # top nodes with name.split(' ')==n\n",
    "    top_nodes = [u for u, _ in top_nodes if len(u.split(' '))==n][:20]\n",
    "    # return the top 5 connected nodes\n",
    "    return top_nodes"
   ]
  },
  {
   "cell_type": "code",
   "execution_count": 78,
   "metadata": {},
   "outputs": [
    {
     "data": {
      "text/plain": [
       "['about the author',\n",
       " 'content marketing manager',\n",
       " 'rolebased access control',\n",
       " 'university of denver',\n",
       " 'ease of use',\n",
       " 'least privilege access',\n",
       " 'access to data',\n",
       " 'reducing the risk',\n",
       " 'pros and cons',\n",
       " 'up to date',\n",
       " 'access to systems',\n",
       " 'attributebased access control',\n",
       " 'level of access',\n",
       " 'leave the organization',\n",
       " 'access intelligence app',\n",
       " 'access to databases',\n",
       " 'roles and permissions',\n",
       " 'potential security breaches',\n",
       " 'lack of visibility',\n",
       " 'access control lists']"
      ]
     },
     "execution_count": 78,
     "metadata": {},
     "output_type": "execute_result"
    }
   ],
   "source": [
    "get_top_nodes('access control', 3)"
   ]
  },
  {
   "cell_type": "code",
   "execution_count": 79,
   "metadata": {},
   "outputs": [
    {
     "data": {
      "text/plain": [
       "{'idf': Decimal('10.201299627324033'), 'pagerank': 3.9115703133103615e-05}"
      ]
     },
     "execution_count": 79,
     "metadata": {},
     "output_type": "execute_result"
    }
   ],
   "source": [
    "# print the properties of the node 'dspm'\n",
    "G.nodes['data security posture management']"
   ]
  },
  {
   "cell_type": "code",
   "execution_count": 80,
   "metadata": {},
   "outputs": [
    {
     "data": {
      "text/plain": [
       "[('data security posture management', 1239),\n",
       " ('justintime access to infrastructure', 1096),\n",
       " ('identity and access management', 900),\n",
       " ('zero trust data security', 829),\n",
       " ('bigid data security suite', 800),\n",
       " ('principle of least privilege', 797),\n",
       " ('rubrik cloud data management', 681),\n",
       " ('zero trust data security™', 655),\n",
       " ('rubrik forward digital summit', 614),\n",
       " ('bigid data privacy suite', 602),\n",
       " ('state of data security', 560),\n",
       " ('soc 2 type 2', 555),\n",
       " ('enterprise backup and recovery', 522),\n",
       " ('general data protection regulation', 519),\n",
       " ('vmware cloud on aws', 481),\n",
       " ('rubrik named a leader', 469),\n",
       " ('privileged access management pam', 468),\n",
       " ('backup and recovery solutions', 461),\n",
       " ('industry leading dspm provider', 456),\n",
       " ('structured and unstructured data', 414)]"
      ]
     },
     "execution_count": 80,
     "metadata": {},
     "output_type": "execute_result"
    }
   ],
   "source": [
    "# top 20 nodes with the most edges with word length > 1\n",
    "top_nodes = [node for node in G.nodes if len(node.split(' '))>3]\n",
    "top_nodes = sorted([(node, G.degree(node)) for node in top_nodes], key=lambda x: x[1], reverse=True)[:20]\n",
    "top_nodes"
   ]
  },
  {
   "cell_type": "code",
   "execution_count": 81,
   "metadata": {},
   "outputs": [
    {
     "data": {
      "text/plain": [
       "(-1.1493025859499764,\n",
       " 1.2042323724205861,\n",
       " -0.9107462204250579,\n",
       " 1.022863407654006)"
      ]
     },
     "execution_count": 81,
     "metadata": {},
     "output_type": "execute_result"
    },
    {
     "data": {
      "image/png": "[encoded data removed]",
      "text/plain": [
       "<Figure size 640x480 with 1 Axes>"
      ]
     },
     "metadata": {},
     "output_type": "display_data"
    }
   ],
   "source": [
    "# visualize the graph\n",
    "import matplotlib.pyplot as plt\n",
    "import seaborn as sns\n",
    "sns.set()\n",
    "\n",
    "# get the top 20 nodes with the most edges\n",
    "top_nodes = [node for node in G.nodes if len(node.split(' '))>1]\n",
    "\n",
    "# get the top 20 nodes with the most edges\n",
    "top_nodes = sorted([(node, G.degree(node)) for node in top_nodes], key=lambda x: x[1], reverse=True)[:40]\n",
    "\n",
    "# get the top 20 nodes with the most edges\n",
    "top_nodes = [node for node, _ in top_nodes]\n",
    "\n",
    "# get the subgraph of the top 20 nodes\n",
    "subgraph = G.subgraph(top_nodes)\n",
    "\n",
    "# get the positions of the nodes\n",
    "pos = nx.spring_layout(subgraph)\n",
    "\n",
    "# make the graph more spread out\n",
    "for _ in range(100):\n",
    "    pos = nx.spring_layout(subgraph, pos=pos, k=0.2, iterations=50)\n",
    "\n",
    "# draw the nodes\n",
    "nx.draw_networkx_nodes(subgraph, pos, node_size=40, node_color='lightblue')\n",
    "\n",
    "# draw the edges\n",
    "nx.draw_networkx_edges(subgraph, pos, width=1, alpha=0.5, edge_color='grey')\n",
    "\n",
    "# draw the labels\n",
    "nx.draw_networkx_labels(subgraph, pos, font_size=5, font_family='sans-serif')\n",
    "\n",
    "# show the plot\n",
    "plt.axis('off')"
   ]
  },
  {
   "cell_type": "code",
   "execution_count": 27,
   "metadata": {},
   "outputs": [
    {
     "name": "stdout",
     "output_type": "stream",
     "text": [
      "Warning: When  cdn_resources is 'local' jupyter notebook has issues displaying graphics on chrome/safari. Use cdn_resources='in_line' or cdn_resources='remote' if you have issues viewing graphics in a notebook.\n",
      "Unexpected exception formatting exception. Falling back to standard exception\n"
     ]
    },
    {
     "name": "stderr",
     "output_type": "stream",
     "text": [
      "Traceback (most recent call last):\n",
      "  File \"/Users/chinmayshrivastava/anaconda3/lib/python3.11/site-packages/IPython/core/interactiveshell.py\", line 3526, in run_code\n",
      "    exec(code_obj, self.user_global_ns, self.user_ns)\n",
      "  File \"/var/folders/gg/8p9c7n915pj7b392v8b4fxz40000gn/T/ipykernel_28955/2969223102.py\", line 11, in <module>\n",
      "    pv.add_edge(u, v, weight=G.edges[u, v]['weight'])\n",
      "  File \"/Users/chinmayshrivastava/anaconda3/lib/python3.11/site-packages/pyvis/network.py\", line -1, in add_edge\n",
      "KeyboardInterrupt\n",
      "\n",
      "During handling of the above exception, another exception occurred:\n",
      "\n",
      "Traceback (most recent call last):\n",
      "  File \"/Users/chinmayshrivastava/anaconda3/lib/python3.11/site-packages/IPython/core/interactiveshell.py\", line 2120, in showtraceback\n",
      "    stb = self.InteractiveTB.structured_traceback(\n",
      "          ^^^^^^^^^^^^^^^^^^^^^^^^^^^^^^^^^^^^^^^^\n",
      "  File \"/Users/chinmayshrivastava/anaconda3/lib/python3.11/site-packages/IPython/core/ultratb.py\", line 1435, in structured_traceback\n",
      "    return FormattedTB.structured_traceback(\n",
      "           ^^^^^^^^^^^^^^^^^^^^^^^^^^^^^^^^^\n",
      "  File \"/Users/chinmayshrivastava/anaconda3/lib/python3.11/site-packages/IPython/core/ultratb.py\", line 1326, in structured_traceback\n",
      "    return VerboseTB.structured_traceback(\n",
      "           ^^^^^^^^^^^^^^^^^^^^^^^^^^^^^^^\n",
      "  File \"/Users/chinmayshrivastava/anaconda3/lib/python3.11/site-packages/IPython/core/ultratb.py\", line 1173, in structured_traceback\n",
      "    formatted_exception = self.format_exception_as_a_whole(etype, evalue, etb, number_of_lines_of_context,\n",
      "                          ^^^^^^^^^^^^^^^^^^^^^^^^^^^^^^^^^^^^^^^^^^^^^^^^^^^^^^^^^^^^^^^^^^^^^^^^^^^^^^^^\n",
      "  File \"/Users/chinmayshrivastava/anaconda3/lib/python3.11/site-packages/IPython/core/ultratb.py\", line 1088, in format_exception_as_a_whole\n",
      "    frames.append(self.format_record(record))\n",
      "                  ^^^^^^^^^^^^^^^^^^^^^^^^^^\n",
      "  File \"/Users/chinmayshrivastava/anaconda3/lib/python3.11/site-packages/IPython/core/ultratb.py\", line 970, in format_record\n",
      "    frame_info.lines, Colors, self.has_colors, lvals\n",
      "    ^^^^^^^^^^^^^^^^\n",
      "  File \"/Users/chinmayshrivastava/anaconda3/lib/python3.11/site-packages/IPython/core/ultratb.py\", line 792, in lines\n",
      "    return self._sd.lines\n",
      "           ^^^^^^^^^^^^^^\n",
      "  File \"/Users/chinmayshrivastava/anaconda3/lib/python3.11/site-packages/stack_data/utils.py\", line 145, in cached_property_wrapper\n",
      "    value = obj.__dict__[self.func.__name__] = self.func(obj)\n",
      "                                               ^^^^^^^^^^^^^^\n",
      "  File \"/Users/chinmayshrivastava/anaconda3/lib/python3.11/site-packages/stack_data/core.py\", line 698, in lines\n",
      "    pieces = self.included_pieces\n",
      "             ^^^^^^^^^^^^^^^^^^^^\n",
      "  File \"/Users/chinmayshrivastava/anaconda3/lib/python3.11/site-packages/stack_data/utils.py\", line 145, in cached_property_wrapper\n",
      "    value = obj.__dict__[self.func.__name__] = self.func(obj)\n",
      "                                               ^^^^^^^^^^^^^^\n",
      "  File \"/Users/chinmayshrivastava/anaconda3/lib/python3.11/site-packages/stack_data/core.py\", line 649, in included_pieces\n",
      "    pos = scope_pieces.index(self.executing_piece)\n",
      "                             ^^^^^^^^^^^^^^^^^^^^\n",
      "  File \"/Users/chinmayshrivastava/anaconda3/lib/python3.11/site-packages/stack_data/utils.py\", line 145, in cached_property_wrapper\n",
      "    value = obj.__dict__[self.func.__name__] = self.func(obj)\n",
      "                                               ^^^^^^^^^^^^^^\n",
      "  File \"/Users/chinmayshrivastava/anaconda3/lib/python3.11/site-packages/stack_data/core.py\", line 628, in executing_piece\n",
      "    return only(\n",
      "           ^^^^^\n",
      "  File \"/Users/chinmayshrivastava/anaconda3/lib/python3.11/site-packages/executing/executing.py\", line 164, in only\n",
      "    raise NotOneValueFound('Expected one value, found 0')\n",
      "executing.executing.NotOneValueFound: Expected one value, found 0\n"
     ]
    }
   ],
   "source": [
    "import pyvis\n",
    "\n",
    "# create a pyvis network object\n",
    "pv = pyvis.network.Network(notebook=True)\n",
    "\n",
    "# add nodes and edges to the pyvis network object\n",
    "for node in G.nodes:\n",
    "    pv.add_node(node, size=G.nodes[node]['pagerank']*10)\n",
    "\n",
    "for u, v in G.edges:\n",
    "    pv.add_edge(u, v, weight=G.edges[u, v]['weight'])\n",
    "\n",
    "# show the pyvis network object\n",
    "pv.show('network.html')\n",
    "\n",
    "# close the cursor\n",
    "cur.close()"
   ]
  },
  {
   "cell_type": "code",
   "execution_count": 83,
   "metadata": {},
   "outputs": [],
   "source": [
    "import pickle\n",
    "\n",
    "# export the graph for later use\n",
    "with open('graph.pickle', 'wb') as f:\n",
    "    pickle.dump(G, f)\n",
    "\n",
    "# close the connection\n",
    "conn.close()"
   ]
  },
  {
   "cell_type": "code",
   "execution_count": null,
   "metadata": {},
   "outputs": [],
   "source": []
  }
 ],
 "metadata": {
  "kernelspec": {
   "display_name": "Python 3 (ipykernel)",
   "language": "python",
   "name": "python3"
  },
  "orig_nbformat": 4
 },
 "nbformat": 4,
 "nbformat_minor": 2
}
